{
 "cells": [
  {
   "cell_type": "code",
   "execution_count": 23,
   "metadata": {},
   "outputs": [],
   "source": [
    "#!pip install numpy pillow"
   ]
  },
  {
   "cell_type": "code",
   "execution_count": 24,
   "metadata": {},
   "outputs": [],
   "source": [
    "import os\n",
    "import numpy as np\n",
    "from PIL import Image"
   ]
  },
  {
   "cell_type": "code",
   "execution_count": 25,
   "metadata": {},
   "outputs": [
    {
     "name": "stdout",
     "output_type": "stream",
     "text": [
      "Cat images shape: (4000, 150, 150, 3)\n",
      "Dog images shape: (4005, 150, 150, 3)\n",
      "Test cat images shape: (1005, 150, 150, 3)\n",
      "Test dog images shape: (1000, 150, 150, 3)\n"
     ]
    }
   ],
   "source": [
    "# Définir les chemins\n",
    "base_dir = '../images/training_set/'\n",
    "test_base_dir = '../images/test_set/'\n",
    "cats_dir = os.path.join(base_dir, 'cats')\n",
    "dogs_dir = os.path.join(base_dir, 'dogs')\n",
    "test_cats_dir = os.path.join(test_base_dir, 'cats')\n",
    "test_dogs_dir = os.path.join(test_base_dir, 'dogs')\n",
    "\n",
    "# Définir la taille des images\n",
    "image_size = (150, 150)\n",
    "\n",
    "# Fonctions pour charger et prétraiter les images\n",
    "def load_images_from_folder(folder):\n",
    "    images = []\n",
    "    for filename in os.listdir(folder):\n",
    "        img_path = os.path.join(folder, filename)\n",
    "        img = Image.open(img_path)\n",
    "        img = img.resize(image_size)  # Redimensionner les images\n",
    "        img_array = np.array(img)  # Convertir en tableau NumPy\n",
    "        images.append(img_array)\n",
    "    return images\n",
    "\n",
    "# Charger les images\n",
    "cat_images = load_images_from_folder(cats_dir)\n",
    "dog_images = load_images_from_folder(dogs_dir)\n",
    "\n",
    "# Charger les images de test\n",
    "\n",
    "test_cat_images = load_images_from_folder(test_cats_dir)\n",
    "test_dog_images = load_images_from_folder(test_dogs_dir)\n",
    "\n",
    "\n",
    "# Convertir les listes en tableaux NumPy\n",
    "cat_images = np.array(cat_images)\n",
    "dog_images = np.array(dog_images)\n",
    "\n",
    "test_cat_images = np.array(test_cat_images)\n",
    "test_dog_images = np.array(test_dog_images)\n",
    "\n",
    "# Vérifier les dimensions\n",
    "print(f\"Cat images shape: {cat_images.shape}\")\n",
    "print(f\"Dog images shape: {dog_images.shape}\")\n",
    "print(f\"Test cat images shape: {test_cat_images.shape}\")\n",
    "print(f\"Test dog images shape: {test_dog_images.shape}\")\n"
   ]
  },
  {
   "cell_type": "code",
   "execution_count": 26,
   "metadata": {},
   "outputs": [],
   "source": [
    "# Créer les étiquettes\n",
    "cat_labels = np.zeros(len(cat_images))\n",
    "dog_labels = np.ones(len(dog_images))\n",
    "\n",
    "test_cat_labels = np.zeros(len(test_cat_images))\n",
    "test_dog_labels = np.ones(len(test_dog_images))\n",
    "\n",
    "# Combiner les images et les étiquettes\n",
    "images = np.concatenate((cat_images, dog_images), axis=0)\n",
    "labels = np.concatenate((cat_labels, dog_labels), axis=0)\n",
    "\n",
    "test_images = np.concatenate((test_cat_images, test_dog_images), axis=0)\n",
    "test_labels = np.concatenate((test_cat_labels, test_dog_labels), axis=0)\n",
    "\n",
    "# Sauvegarder les images et les étiquettes dans des fichiers `.npy`\n",
    "np.save('../data/images.npy', images)\n",
    "np.save('../data/labels.npy', labels)\n",
    "\n",
    "np.save('../data/test_images.npy', test_images)\n",
    "np.save('../data/test_labels.npy', test_labels)\n"
   ]
  }
 ],
 "metadata": {
  "kernelspec": {
   "display_name": "base",
   "language": "python",
   "name": "python3"
  },
  "language_info": {
   "codemirror_mode": {
    "name": "ipython",
    "version": 3
   },
   "file_extension": ".py",
   "mimetype": "text/x-python",
   "name": "python",
   "nbconvert_exporter": "python",
   "pygments_lexer": "ipython3",
   "version": "3.11.5"
  }
 },
 "nbformat": 4,
 "nbformat_minor": 2
}
